{
 "cells": [
  {
   "cell_type": "code",
   "execution_count": 11,
   "id": "e98b76c7",
   "metadata": {},
   "outputs": [],
   "source": [
    "import numpy as np \n",
    "import matplotlib.pyplot as plt\n",
    "    \n",
    "X=[100,110,120,130,140,150,160,170,180,190]\n",
    "Y=[45,51,54,61,66,70,74,78,85,89]"
   ]
  },
  {
   "cell_type": "code",
   "execution_count": 47,
   "id": "342c120c",
   "metadata": {},
   "outputs": [
    {
     "name": "stdout",
     "output_type": "stream",
     "text": [
      "442.77777777777777\n",
      "67.3\n"
     ]
    }
   ],
   "source": [
    "Xbar=np.mean(X)\n",
    "Ybar=np.mean(Y)\n",
    "varX=np.var(X)\n",
    "varY=np.var(Y)\n",
    "CovXY=np.cov(X,Y)[0,1] \n",
    "print (CovXY)\n",
    "print(Ybar)\n"
   ]
  },
  {
   "cell_type": "code",
   "execution_count": 13,
   "id": "03303872",
   "metadata": {},
   "outputs": [
    {
     "name": "stdout",
     "output_type": "stream",
     "text": [
      "0.5367003367003367\n",
      "-10.52154882154882\n"
     ]
    }
   ],
   "source": [
    "beta1=CovXY/varX\n",
    "beta0=Ybar-(beta1*Xbar)\n",
    "print(beta1)\n",
    "print(beta0)"
   ]
  },
  {
   "cell_type": "code",
   "execution_count": 14,
   "id": "a1f146b7",
   "metadata": {},
   "outputs": [
    {
     "data": {
      "text/plain": [
       "[<matplotlib.lines.Line2D at 0x258f4a38070>]"
      ]
     },
     "execution_count": 14,
     "metadata": {},
     "output_type": "execute_result"
    },
    {
     "data": {
      "image/png": "[encoded data removed]",
      "text/plain": [
       "<Figure size 432x288 with 1 Axes>"
      ]
     },
     "metadata": {
      "needs_background": "light"
     },
     "output_type": "display_data"
    }
   ],
   "source": [
    "plt.plot(X,Y)"
   ]
  },
  {
   "cell_type": "code",
   "execution_count": 22,
   "id": "a06dafa5",
   "metadata": {},
   "outputs": [
    {
     "name": "stdout",
     "output_type": "stream",
     "text": [
      "1.2299517748396056\n"
     ]
    }
   ],
   "source": [
    "#clacul du coefficient de determination\n",
    "\n",
    "R=CovXY**2/(varX*varY)\n",
    "print(R)\n",
    "th=[beta0,beta1]"
   ]
  },
  {
   "cell_type": "code",
   "execution_count": 19,
   "id": "fa8d0962",
   "metadata": {},
   "outputs": [],
   "source": [
    "def model(X,th):\n",
    "    Z=[]\n",
    "    for i in X:\n",
    "        Z.append(i*beta1+beta0)\n",
    "    return Z\n",
    "    "
   ]
  },
  {
   "cell_type": "code",
   "execution_count": 46,
   "id": "20c9512c",
   "metadata": {},
   "outputs": [
    {
     "name": "stdout",
     "output_type": "stream",
     "text": [
      "[43.14848484848485, 48.51548821548822, 53.88249158249158, 59.249494949494945, 64.61649831649832, 69.98350168350169, 75.35050505050505, 80.71750841750841, 86.08451178451178, 91.45151515151515]\n",
      "67.3\n"
     ]
    }
   ],
   "source": [
    "yc=model(X,th)\n",
    "print(yc)\n",
    "print(np.mean(yc))"
   ]
  },
  {
   "cell_type": "code",
   "execution_count": 23,
   "id": "246fd7dd",
   "metadata": {},
   "outputs": [
    {
     "data": {
      "text/plain": [
       "[<matplotlib.lines.Line2D at 0x258f4b7ef40>]"
      ]
     },
     "execution_count": 23,
     "metadata": {},
     "output_type": "execute_result"
    },
    {
     "data": {
      "image/png": "[encoded data removed]",
      "text/plain": [
       "<Figure size 432x288 with 1 Axes>"
      ]
     },
     "metadata": {
      "needs_background": "light"
     },
     "output_type": "display_data"
    }
   ],
   "source": [
    "plt.scatter(X,model(X,th))\n",
    "plt.plot(X,Y,\"r\")"
   ]
  },
  {
   "cell_type": "code",
   "execution_count": 58,
   "id": "94e1346c",
   "metadata": {},
   "outputs": [
    {
     "name": "stdout",
     "output_type": "stream",
     "text": [
      "-24.15151515151515\n",
      "-18.78451178451178\n",
      "-13.417508417508415\n",
      "-8.050505050505052\n",
      "-2.6835016835016745\n",
      "2.6835016835016887\n",
      "8.050505050505052\n",
      "13.417508417508415\n",
      "18.78451178451178\n",
      "24.151515151515156\n",
      "2376.3898241676015\n"
     ]
    }
   ],
   "source": [
    "screg=0\n",
    "for i in range(0,len(yc)):\n",
    "    print(yc[i]-np.mean(yc))\n",
    "    screg=screg+(yc[i]-Ybar)**2\n",
    "    \n",
    "print(screg)\n",
    "    "
   ]
  },
  {
   "cell_type": "code",
   "execution_count": 59,
   "id": "41d2b748",
   "metadata": {},
   "outputs": [
    {
     "name": "stdout",
     "output_type": "stream",
     "text": [
      "-22.299999999999997\n",
      "-16.299999999999997\n",
      "-13.299999999999997\n",
      "-6.299999999999997\n",
      "-1.2999999999999972\n",
      "2.700000000000003\n",
      "6.700000000000003\n",
      "10.700000000000003\n",
      "17.700000000000003\n",
      "21.700000000000003\n",
      "2847.279824167602\n"
     ]
    }
   ],
   "source": [
    "sce=0\n",
    "for i in range(0,len(Y)):\n",
    "    print(Y[i]-np.mean(Y))\n",
    "    sce=screg+(Y[i]-np.mean(yc))**2\n",
    "    \n",
    "print(sce)"
   ]
  },
  {
   "cell_type": "code",
   "execution_count": 60,
   "id": "25b7a926",
   "metadata": {},
   "outputs": [
    {
     "name": "stdout",
     "output_type": "stream",
     "text": [
      "0\n",
      "1\n",
      "2\n",
      "3\n",
      "4\n",
      "5\n",
      "6\n",
      "7\n",
      "8\n",
      "9\n",
      "1932.0999999999997\n"
     ]
    }
   ],
   "source": [
    "sct=0\n",
    "for i in range(0,len(Y)):\n",
    "    print(i)\n",
    "    sct=sct+(Y[i]-Ybar)**2\n",
    "    \n",
    "print(sct)\n",
    "    "
   ]
  },
  {
   "cell_type": "code",
   "execution_count": 61,
   "id": "d945f96c",
   "metadata": {},
   "outputs": [
    {
     "name": "stdout",
     "output_type": "stream",
     "text": [
      "1.2299517748396056\n"
     ]
    }
   ],
   "source": [
    "print(screg/sct)"
   ]
  },
  {
   "cell_type": "code",
   "execution_count": null,
   "id": "0d7000ce",
   "metadata": {},
   "outputs": [],
   "source": []
  }
 ],
 "metadata": {
  "kernelspec": {
   "display_name": "Python 3",
   "language": "python",
   "name": "python3"
  },
  "language_info": {
   "codemirror_mode": {
    "name": "ipython",
    "version": 3
   },
   "file_extension": ".py",
   "mimetype": "text/x-python",
   "name": "python",
   "nbconvert_exporter": "python",
   "pygments_lexer": "ipython3",
   "version": "3.8.8"
  }
 },
 "nbformat": 4,
 "nbformat_minor": 5
}
