{
 "cells": [
  {
   "cell_type": "code",
   "execution_count": 1,
   "id": "8dfcae7b",
   "metadata": {},
   "outputs": [],
   "source": [
    "import numpy as np \n",
    "import matplotlib.pyplot as plt\n",
    "from sklearn.datasets import make_regression\n",
    "import numpy.linalg as lag"
   ]
  },
  {
   "cell_type": "code",
   "execution_count": 13,
   "id": "d835353e",
   "metadata": {},
   "outputs": [
    {
     "data": {
      "image/png": "[encoded data removed]",
      "text/plain": [
       "<Figure size 432x288 with 1 Axes>"
      ]
     },
     "metadata": {
      "needs_background": "light"
     },
     "output_type": "display_data"
    }
   ],
   "source": [
    "#1-dataset\n",
    "x,y=make_regression(n_samples=100,n_features=2,noise=10)\n",
    "#visualiser\n",
    "plt.scatter(x[:,0],y)\n",
    "Y=y.reshape(y.shape[0],1)\n"
   ]
  },
  {
   "cell_type": "code",
   "execution_count": 14,
   "id": "b2e22264",
   "metadata": {},
   "outputs": [
    {
     "data": {
      "text/plain": [
       "(100, 2)"
      ]
     },
     "execution_count": 14,
     "metadata": {},
     "output_type": "execute_result"
    }
   ],
   "source": [
    "#matrice\n",
    "#coler des 1 a x pour X\n",
    "#ajoueter x**2\n",
    "X=np.hstack((x,np.ones((x.shape[0],1))))\n",
    "np.shape(x)"
   ]
  },
  {
   "cell_type": "code",
   "execution_count": 15,
   "id": "1438c014",
   "metadata": {},
   "outputs": [
    {
     "data": {
      "text/plain": [
       "(100, 1)"
      ]
     },
     "execution_count": 15,
     "metadata": {},
     "output_type": "execute_result"
    }
   ],
   "source": [
    "np.shape(Y)"
   ]
  },
  {
   "cell_type": "code",
   "execution_count": 16,
   "id": "9ea6badb",
   "metadata": {},
   "outputs": [
    {
     "data": {
      "text/plain": [
       "array([[-0.12844294,  0.46189537,  1.        ],\n",
       "       [-1.16713474, -1.08296795,  1.        ],\n",
       "       [-2.09148481,  0.46933895,  1.        ],\n",
       "       [-0.65354963,  1.03175472,  1.        ],\n",
       "       [-1.18482566,  0.49044291,  1.        ],\n",
       "       [ 0.96046018, -0.43753027,  1.        ],\n",
       "       [ 0.75027128, -1.05544026,  1.        ],\n",
       "       [ 0.42825723,  1.76057491,  1.        ],\n",
       "       [ 1.47724661,  0.99849836,  1.        ],\n",
       "       [-0.86910067, -0.95227016,  1.        ],\n",
       "       [-0.44227122, -1.42775603,  1.        ],\n",
       "       [ 0.147542  , -0.18750775,  1.        ],\n",
       "       [-1.40450517,  0.01829913,  1.        ],\n",
       "       [-0.25439523, -2.84499439,  1.        ],\n",
       "       [-0.79460074,  1.78145317,  1.        ],\n",
       "       [-0.09577278,  2.59850901,  1.        ],\n",
       "       [-0.37494594,  0.10559666,  1.        ],\n",
       "       [-1.20628267, -1.3627656 ,  1.        ],\n",
       "       [ 0.96962603, -0.1555833 ,  1.        ],\n",
       "       [ 0.62713398, -0.40920612,  1.        ],\n",
       "       [ 0.89636692,  1.5716272 ,  1.        ],\n",
       "       [-0.67689736, -0.61652548,  1.        ],\n",
       "       [-0.52707041,  0.29318723,  1.        ],\n",
       "       [-1.96610027,  0.08599518,  1.        ],\n",
       "       [ 1.49695855,  0.27808679,  1.        ],\n",
       "       [ 0.13990012,  0.41294787,  1.        ],\n",
       "       [-0.23923518,  0.17501447,  1.        ],\n",
       "       [-0.31354798,  2.37159043,  1.        ],\n",
       "       [ 0.64422749,  0.83407207,  1.        ],\n",
       "       [ 0.1898605 , -0.71022604,  1.        ],\n",
       "       [ 1.43420448, -1.41991109,  1.        ],\n",
       "       [-0.0278199 ,  0.05023757,  1.        ],\n",
       "       [-1.35753262, -1.96179533,  1.        ],\n",
       "       [-0.78854291,  0.19001971,  1.        ],\n",
       "       [ 0.45754098,  0.09037355,  1.        ],\n",
       "       [-0.65216816, -0.90503065,  1.        ],\n",
       "       [-1.23937419, -0.7704669 ,  1.        ],\n",
       "       [-0.82139889, -0.14735599,  1.        ],\n",
       "       [-0.07733827,  0.30941816,  1.        ],\n",
       "       [ 1.41559889,  0.07657575,  1.        ],\n",
       "       [-1.31615784,  0.49118013,  1.        ],\n",
       "       [ 0.41567068,  0.2039323 ,  1.        ],\n",
       "       [ 0.46527337,  1.06867858,  1.        ],\n",
       "       [-0.78952299, -0.85918592,  1.        ],\n",
       "       [-0.21944405,  2.91227588,  1.        ],\n",
       "       [-0.85256311,  0.76273036,  1.        ],\n",
       "       [-2.43358271, -0.86504272,  1.        ],\n",
       "       [-0.57483977,  0.28436657,  1.        ],\n",
       "       [ 0.39773136, -1.6460631 ,  1.        ],\n",
       "       [-1.08614205,  1.57178256,  1.        ],\n",
       "       [ 0.61194333, -0.44312887,  1.        ],\n",
       "       [ 0.61871241, -0.49258302,  1.        ],\n",
       "       [-0.58121606,  0.35396621,  1.        ],\n",
       "       [-1.38389916, -1.53039924,  1.        ],\n",
       "       [-1.14555838,  0.83268523,  1.        ],\n",
       "       [-0.57760188,  1.89831283,  1.        ],\n",
       "       [ 0.16545831, -0.61723161,  1.        ],\n",
       "       [-0.74911266, -1.11251225,  1.        ],\n",
       "       [ 1.81507721,  0.47882598,  1.        ],\n",
       "       [ 0.45813689,  0.55769571,  1.        ],\n",
       "       [ 0.97998804,  0.87809988,  1.        ],\n",
       "       [ 1.66604993, -0.86161477,  1.        ],\n",
       "       [ 0.26902352, -0.55846673,  1.        ],\n",
       "       [-0.06692211,  0.05968145,  1.        ],\n",
       "       [-0.31532037, -0.26155701,  1.        ],\n",
       "       [ 0.43223252, -0.52427221,  1.        ],\n",
       "       [-1.05842122, -1.08700375,  1.        ],\n",
       "       [ 0.98955608, -1.81895591,  1.        ],\n",
       "       [-0.03236813,  0.9696608 ,  1.        ],\n",
       "       [ 0.80785246, -0.38922693,  1.        ],\n",
       "       [ 2.36407513, -1.25062053,  1.        ],\n",
       "       [-0.9410778 , -1.88804053,  1.        ],\n",
       "       [-0.47959864, -0.71338076,  1.        ],\n",
       "       [ 0.81556957, -0.57808824,  1.        ],\n",
       "       [-0.25098575,  0.84000961,  1.        ],\n",
       "       [ 1.02225897,  1.74469484,  1.        ],\n",
       "       [-0.09719192, -0.0498883 ,  1.        ],\n",
       "       [-1.04572621,  0.96991323,  1.        ],\n",
       "       [-0.30665093, -0.98068176,  1.        ],\n",
       "       [ 3.16967824,  0.50715553,  1.        ],\n",
       "       [-0.39075497, -1.66115634,  1.        ],\n",
       "       [-0.63861761, -0.32177001,  1.        ],\n",
       "       [ 0.57200989,  0.56458546,  1.        ],\n",
       "       [-0.17807366, -1.0774567 ,  1.        ],\n",
       "       [ 1.87815511,  1.73794846,  1.        ],\n",
       "       [-0.44839742, -0.3640986 ,  1.        ],\n",
       "       [-2.01561384,  0.32870452,  1.        ],\n",
       "       [-0.74765514, -3.16757861,  1.        ],\n",
       "       [ 1.39755598,  1.17822429,  1.        ],\n",
       "       [ 0.17080013, -0.58456244,  1.        ],\n",
       "       [-0.46388466,  1.54877947,  1.        ],\n",
       "       [ 3.5439866 , -0.11552523,  1.        ],\n",
       "       [-0.12675694, -0.74834177,  1.        ],\n",
       "       [-0.75000462,  1.19228382,  1.        ],\n",
       "       [-0.74154922,  0.36798151,  1.        ],\n",
       "       [-0.67586654, -0.58591218,  1.        ],\n",
       "       [-0.14916735,  0.11102411,  1.        ],\n",
       "       [ 0.63131281,  0.94281076,  1.        ],\n",
       "       [-0.91710829, -1.20099245,  1.        ],\n",
       "       [-0.88766279,  0.213247  ,  1.        ]])"
      ]
     },
     "execution_count": 16,
     "metadata": {},
     "output_type": "execute_result"
    }
   ],
   "source": [
    "X"
   ]
  },
  {
   "cell_type": "code",
   "execution_count": 6,
   "id": "7da381c1",
   "metadata": {},
   "outputs": [
    {
     "data": {
      "text/plain": [
       "(100, 2)"
      ]
     },
     "execution_count": 6,
     "metadata": {},
     "output_type": "execute_result"
    }
   ],
   "source": [
    "x.shape"
   ]
  },
  {
   "cell_type": "code",
   "execution_count": 18,
   "id": "72e591b0",
   "metadata": {},
   "outputs": [
    {
     "data": {
      "text/plain": [
       "array([[98.81332664],\n",
       "       [ 4.164952  ],\n",
       "       [ 0.2282538 ]])"
      ]
     },
     "execution_count": 18,
     "metadata": {},
     "output_type": "execute_result"
    }
   ],
   "source": [
    "beta=lag.inv(X.T.dot(X)).dot(X.T).dot(Y)\n",
    "beta"
   ]
  },
  {
   "cell_type": "code",
   "execution_count": 19,
   "id": "4fd82f3c",
   "metadata": {},
   "outputs": [],
   "source": [
    " def predfonct(X,beta):\n",
    "        return X.dot(beta)\n",
    "        "
   ]
  },
  {
   "cell_type": "code",
   "execution_count": 20,
   "id": "dabe09fa",
   "metadata": {},
   "outputs": [
    {
     "data": {
      "text/plain": [
       "array([[ -10.53984853],\n",
       "       [-119.61072174],\n",
       "       [-204.48354389],\n",
       "       [ -60.0539501 ],\n",
       "       [-114.80564015],\n",
       "       [  93.31222667],\n",
       "       [  69.96919663],\n",
       "       [  49.87848524],\n",
       "       [ 150.35860371],\n",
       "       [ -89.61663393],\n",
       "       [ -49.42057173],\n",
       "       [  14.0264088 ],\n",
       "       [-138.4793589 ],\n",
       "       [ -36.75864995],\n",
       "       [ -70.86922207],\n",
       "       [   1.58729185],\n",
       "       [ -36.38159641],\n",
       "       [-124.64440345],\n",
       "       [  95.39223045],\n",
       "       [  60.49312487],\n",
       "       [  95.3470033 ],\n",
       "       [ -69.22602499],\n",
       "       [ -50.6322159 ],\n",
       "       [-193.69048855],\n",
       "       [ 149.30592591],\n",
       "       [  15.77215806],\n",
       "       [ -22.68244379],\n",
       "       [ -20.87690508],\n",
       "       [  67.36038562],\n",
       "       [  16.0309441 ],\n",
       "       [ 136.03290829],\n",
       "       [  -2.31148586],\n",
       "       [-142.08484417],\n",
       "       [ -76.89887108],\n",
       "       [  45.8158012 ],\n",
       "       [ -67.98406084],\n",
       "       [-125.44739035],\n",
       "       [ -81.55063376],\n",
       "       [  -6.12508606],\n",
       "       [ 140.42722349],\n",
       "       [-127.7799395 ],\n",
       "       [  42.15142492],\n",
       "       [  50.65445798],\n",
       "       [ -81.36560745],\n",
       "       [  -9.32625336],\n",
       "       [ -80.83960769],\n",
       "       [-243.84501092],\n",
       "       [ -55.38920319],\n",
       "       [  32.67363894],\n",
       "       [-100.55065613],\n",
       "       [  58.85079916],\n",
       "       [  59.3137002 ],\n",
       "       [ -55.72938671],\n",
       "       [-142.89346513],\n",
       "       [-109.50008704],\n",
       "       [ -48.94012744],\n",
       "       [  14.0069996 ],\n",
       "       [ -78.42761996],\n",
       "       [ 181.57635783],\n",
       "       [  47.82105999],\n",
       "       [ 100.72137594],\n",
       "       [ 161.26760555],\n",
       "       [  24.4853758 ],\n",
       "       [  -6.13597222],\n",
       "       [ -32.018973  ],\n",
       "       [  40.75501878],\n",
       "       [-108.8851866 ],\n",
       "       [  90.43371812],\n",
       "       [   1.0684416 ],\n",
       "       [  78.4337317 ],\n",
       "       [ 228.6216078 ],\n",
       "       [-100.62637258],\n",
       "       [ -50.13367986],\n",
       "       [  78.40968604],\n",
       "       [ -21.07388313],\n",
       "       [ 108.50763368],\n",
       "       [  -9.58338543],\n",
       "       [ -99.06378941],\n",
       "       [ -34.15743738],\n",
       "       [ 315.54698334],\n",
       "       [ -45.30218131],\n",
       "       [ -64.21583354],\n",
       "       [  59.10192517],\n",
       "       [ -21.85535232],\n",
       "       [ 193.05348017],\n",
       "       [ -45.5958399 ],\n",
       "       [-197.5722165 ],\n",
       "       [ -86.84285111],\n",
       "       [ 143.23265698],\n",
       "       [  14.67090853],\n",
       "       [ -39.15914033],\n",
       "       [ 349.94020195],\n",
       "       [ -15.41382908],\n",
       "       [ -68.91639263],\n",
       "       [ -71.51406607],\n",
       "       [ -68.99666394],\n",
       "       [ -14.04905826],\n",
       "       [  66.53713419],\n",
       "       [ -95.39634318],\n",
       "       [ -86.59649639]])"
      ]
     },
     "execution_count": 20,
     "metadata": {},
     "output_type": "execute_result"
    }
   ],
   "source": [
    "predfonct(X,beta)"
   ]
  },
  {
   "cell_type": "code",
   "execution_count": 21,
   "id": "9854a0a7",
   "metadata": {},
   "outputs": [
    {
     "name": "stderr",
     "output_type": "stream",
     "text": [
      "<ipython-input-21-09caa06ad04f>:3: MatplotlibDeprecationWarning: Adding an axes using the same arguments as a previous axes currently reuses the earlier instance.  In a future version, a new instance will always be created and returned.  Meanwhile, this warning can be suppressed, and the future behavior ensured, by passing a unique label to each axes instance.\n",
      "  ax = plt.axes(projection = '3d')\n"
     ]
    },
    {
     "data": {
      "text/plain": [
       "<mpl_toolkits.mplot3d.art3d.Path3DCollection at 0x26d55ad63a0>"
      ]
     },
     "execution_count": 21,
     "metadata": {},
     "output_type": "execute_result"
    },
    {
     "data": {
      "image/png": "[encoded data removed]",
      "text/plain": [
       "<Figure size 432x288 with 1 Axes>"
      ]
     },
     "metadata": {
      "needs_background": "light"
     },
     "output_type": "display_data"
    }
   ],
   "source": [
    "plt.scatter(x[:,1],predfonct(X,beta))\n",
    "#plt.plot(x[:,0],Y,\"r\")\n",
    "ax = plt.axes(projection = '3d')\n",
    "ax.scatter3D(x[:,0],x[:,1],predfonct(X,beta))\n",
    "#ax2 = plt.axes(projection = '3d')\n",
    "ax.scatter3D(x[:,0],x[:,1],Y,\"r\")"
   ]
  },
  {
   "cell_type": "code",
   "execution_count": 22,
   "id": "cf8cb1ff",
   "metadata": {},
   "outputs": [
    {
     "data": {
      "text/plain": [
       "array([[1079096.86041218]])"
      ]
     },
     "execution_count": 22,
     "metadata": {},
     "output_type": "execute_result"
    }
   ],
   "source": [
    "reg=predfonct(X,beta)-Y.mean()\n",
    "Reg=reg.T.dot(reg)\n",
    "ste=Y-Y.mean()\n",
    "STE=ste.T.dot(ste)\n",
    "Reg"
   ]
  },
  {
   "cell_type": "code",
   "execution_count": 23,
   "id": "b7eeaf07",
   "metadata": {},
   "outputs": [],
   "source": [
    "def coef_deter(y,pred):\n",
    "    u=((y-pred)**2).sum()\n",
    "    v=((y-y.mean())**2).sum()\n",
    "    return 1-u/v"
   ]
  },
  {
   "cell_type": "code",
   "execution_count": 24,
   "id": "cd4b2066",
   "metadata": {},
   "outputs": [
    {
     "data": {
      "text/plain": [
       "0.9927901315110376"
      ]
     },
     "execution_count": 24,
     "metadata": {},
     "output_type": "execute_result"
    }
   ],
   "source": [
    "coef_deter(Y,predfonct(X,beta))"
   ]
  },
  {
   "cell_type": "code",
   "execution_count": 25,
   "id": "4b6ee4d3",
   "metadata": {},
   "outputs": [
    {
     "data": {
      "text/plain": [
       "array([[0.99279013]])"
      ]
     },
     "execution_count": 25,
     "metadata": {},
     "output_type": "execute_result"
    }
   ],
   "source": [
    "Reg.dot(lag.inv(STE))"
   ]
  },
  {
   "cell_type": "code",
   "execution_count": null,
   "id": "71b8c3ed",
   "metadata": {},
   "outputs": [],
   "source": []
  }
 ],
 "metadata": {
  "kernelspec": {
   "display_name": "Python 3",
   "language": "python",
   "name": "python3"
  },
  "language_info": {
   "codemirror_mode": {
    "name": "ipython",
    "version": 3
   },
   "file_extension": ".py",
   "mimetype": "text/x-python",
   "name": "python",
   "nbconvert_exporter": "python",
   "pygments_lexer": "ipython3",
   "version": "3.8.8"
  }
 },
 "nbformat": 4,
 "nbformat_minor": 5
}
